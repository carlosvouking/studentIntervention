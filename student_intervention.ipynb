{
 "cells": [
  {
   "cell_type": "markdown",
   "metadata": {},
   "source": [
    "# Omoju Miller\n",
    "# Project 2: Supervised Learning\n",
    "### Building a Student Intervention System"
   ]
  },
  {
   "cell_type": "markdown",
   "metadata": {},
   "source": [
    "## 1. Classification vs Regression\n",
    "\n",
    "Your goal is to identify students who might need early intervention - which type of supervised machine learning problem is this, classification or regression? Why?\n",
    "- This sounds like a classic classification problem because we are trying to classify our data into two separate classes.\n",
    "   - The inherent task is \"predicting a category.\"\n",
    "- Another support we have in evaluating this problem as a classification problem is that we can consider our data as labeled. We have features that we can use to determine who has succeeded in the class versus who has not. For that insight, we could use `passed` column as our class label"
   ]
  },
  {
   "cell_type": "markdown",
   "metadata": {},
   "source": [
    "## 2. Exploring the Data\n",
    "\n",
    "Let's go ahead and read in the student dataset first.\n"
   ]
  },
  {
   "cell_type": "code",
   "execution_count": 3,
   "metadata": {
    "collapsed": false
   },
   "outputs": [],
   "source": [
    "# Import libraries\n",
    "import numpy as np\n",
    "import pandas as pd"
   ]
  },
  {
   "cell_type": "code",
   "execution_count": 4,
   "metadata": {
    "collapsed": false
   },
   "outputs": [
    {
     "name": "stdout",
     "output_type": "stream",
     "text": [
      "Student data read successfully!\n"
     ]
    }
   ],
   "source": [
    "# Read student data\n",
    "student_data = pd.read_csv(\"student-data.csv\")\n",
    "print \"Student data read successfully!\"\n",
    "# Note: The last column 'passed' is the target/label, all other are feature columns"
   ]
  },
  {
   "cell_type": "markdown",
   "metadata": {},
   "source": [
    "Now, can you find out the following facts about the dataset?\n",
    "- Total number of students\n",
    "- Number of students who passed\n",
    "- Number of students who failed\n",
    "- Graduation rate of the class (%)\n",
    "- Number of features\n",
    "\n",
    "_Use the code block below to compute these values. Instructions/steps are marked using **TODO**s._"
   ]
  },
  {
   "cell_type": "code",
   "execution_count": 5,
   "metadata": {
    "collapsed": false
   },
   "outputs": [
    {
     "name": "stdout",
     "output_type": "stream",
     "text": [
      "Total number of students: 395\n",
      "Number of students who passed: 265\n",
      "Number of students who failed: 130\n",
      "Number of features: 30\n",
      "Graduation rate of the class: 0.67%\n"
     ]
    }
   ],
   "source": [
    "from __future__ import division\n",
    "\n",
    "# TODO: Compute desired values - replace each '?' with an appropriate expression/function call\n",
    "n_students = len(student_data)\n",
    "n_features = len(student_data.columns) - 1\n",
    "n_passed = len(student_data.query('passed == \"yes\"'))\n",
    "n_failed = len(student_data.query('passed == \"no\"'))\n",
    "grad_rate = n_passed / n_students\n",
    "print \"Total number of students: {}\".format(n_students)\n",
    "print \"Number of students who passed: {}\".format(n_passed)\n",
    "print \"Number of students who failed: {}\".format(n_failed)\n",
    "print \"Number of features: {}\".format(n_features)\n",
    "print \"Graduation rate of the class: {:.2f}%\".format(grad_rate)"
   ]
  },
  {
   "cell_type": "markdown",
   "metadata": {},
   "source": [
    "## 3. Preparing the Data\n",
    "In this section, we will prepare the data for modeling, training and testing.\n",
    "\n",
    "### Identify feature and target columns\n",
    "It is often the case that the data you obtain contains non-numeric features. This can be a problem, as most machine learning algorithms expect numeric data to perform computations with.\n",
    "\n",
    "Let's first separate our data into feature and target columns, and see if any features are non-numeric.<br/>\n",
    "**Note**: For this dataset, the last column (`'passed'`) is the target or label we are trying to predict."
   ]
  },
  {
   "cell_type": "code",
   "execution_count": 6,
   "metadata": {
    "collapsed": false
   },
   "outputs": [
    {
     "name": "stdout",
     "output_type": "stream",
     "text": [
      "Feature column(s):- ['school', 'sex', 'age', 'address', 'famsize', 'Pstatus', 'Medu', 'Fedu', 'Mjob', 'Fjob', 'reason', 'guardian', 'traveltime', 'studytime', 'failures', 'schoolsup', 'famsup', 'paid', 'activities', 'nursery', 'higher', 'internet', 'romantic', 'famrel', 'freetime', 'goout', 'Dalc', 'Walc', 'health', 'absences']\n",
      "Target column: passed\n",
      "\n",
      "Feature values:-\n",
      "  school sex  age address famsize Pstatus  Medu  Fedu     Mjob      Fjob  \\\n",
      "0     GP   F   18       U     GT3       A     4     4  at_home   teacher   \n",
      "1     GP   F   17       U     GT3       T     1     1  at_home     other   \n",
      "2     GP   F   15       U     LE3       T     1     1  at_home     other   \n",
      "3     GP   F   15       U     GT3       T     4     2   health  services   \n",
      "4     GP   F   16       U     GT3       T     3     3    other     other   \n",
      "\n",
      "    ...    higher internet  romantic  famrel  freetime goout Dalc Walc health  \\\n",
      "0   ...       yes       no        no       4         3     4    1    1      3   \n",
      "1   ...       yes      yes        no       5         3     3    1    1      3   \n",
      "2   ...       yes      yes        no       4         3     2    2    3      3   \n",
      "3   ...       yes      yes       yes       3         2     2    1    1      5   \n",
      "4   ...       yes       no        no       4         3     2    1    2      5   \n",
      "\n",
      "  absences  \n",
      "0        6  \n",
      "1        4  \n",
      "2       10  \n",
      "3        2  \n",
      "4        4  \n",
      "\n",
      "[5 rows x 30 columns]\n"
     ]
    }
   ],
   "source": [
    "# Extract feature (X) and target (y) columns\n",
    "feature_cols = list(student_data.columns[:-1])  # all columns but last are features\n",
    "target_col = student_data.columns[-1]  # last column is the target/label\n",
    "print \"Feature column(s):-\", feature_cols\n",
    "\n",
    "print \"Target column: {}\".format(target_col)\n",
    "\n",
    "X_all = student_data[feature_cols]  # feature values for all students\n",
    "y_all = student_data[target_col]  # corresponding targets/labels\n",
    "print \"\\nFeature values:-\"\n",
    "print X_all.head()  # print the first 5 rows"
   ]
  },
  {
   "cell_type": "markdown",
   "metadata": {},
   "source": [
    "### Preprocess feature columns\n",
    "\n",
    "As you can see, there are several non-numeric columns that need to be converted! Many of them are simply `yes`/`no`, e.g. `internet`. These can be reasonably converted into `1`/`0` (binary) values.\n",
    "\n",
    "Other columns, like `Mjob` and `Fjob`, have more than two values, and are known as _categorical variables_. The recommended way to handle such a column is to create as many columns as possible values (e.g. `Fjob_teacher`, `Fjob_other`, `Fjob_services`, etc.), and assign a `1` to one of them and `0` to all others.\n",
    "\n",
    "These generated columns are sometimes called _dummy variables_, and we will use the [`pandas.get_dummies()`](http://pandas.pydata.org/pandas-docs/stable/generated/pandas.get_dummies.html?highlight=get_dummies#pandas.get_dummies) function to perform this transformation."
   ]
  },
  {
   "cell_type": "code",
   "execution_count": 46,
   "metadata": {
    "collapsed": false
   },
   "outputs": [
    {
     "name": "stdout",
     "output_type": "stream",
     "text": [
      "Processed feature columns (48):-\n",
      "['school_GP', 'school_MS', 'sex_F', 'sex_M', 'age', 'address_R', 'address_U', 'famsize_GT3', 'famsize_LE3', 'Pstatus_A', 'Pstatus_T', 'Medu', 'Fedu', 'Mjob_at_home', 'Mjob_health', 'Mjob_other', 'Mjob_services', 'Mjob_teacher', 'Fjob_at_home', 'Fjob_health', 'Fjob_other', 'Fjob_services', 'Fjob_teacher', 'reason_course', 'reason_home', 'reason_other', 'reason_reputation', 'guardian_father', 'guardian_mother', 'guardian_other', 'traveltime', 'studytime', 'failures', 'schoolsup', 'famsup', 'paid', 'activities', 'nursery', 'higher', 'internet', 'romantic', 'famrel', 'freetime', 'goout', 'Dalc', 'Walc', 'health', 'absences']\n"
     ]
    }
   ],
   "source": [
    "# Preprocess feature columns\n",
    "def preprocess_features(X):\n",
    "    outX = pd.DataFrame(index=X.index)  # output dataframe, initially empty\n",
    "\n",
    "    # Check each column\n",
    "    for col, col_data in X.iteritems():\n",
    "        # If data type is non-numeric, try to replace all yes/no values with 1/0\n",
    "        if col_data.dtype == object:\n",
    "            col_data = col_data.replace(['yes', 'no'], [1, 0])\n",
    "        # Note: This should change the data type for yes/no columns to int\n",
    "\n",
    "        # If still non-numeric, convert to one or more dummy variables\n",
    "        if col_data.dtype == object:\n",
    "            col_data = pd.get_dummies(col_data, prefix=col)  # e.g. 'school' => 'school_GP', 'school_MS'\n",
    "\n",
    "        outX = outX.join(col_data)  # collect column(s) in output dataframe\n",
    "\n",
    "    return outX\n",
    "\n",
    "X_all = preprocess_features(X_all)\n",
    "print \"Processed feature columns ({}):-\\n{}\".format(len(X_all.columns), list(X_all.columns))\n"
   ]
  },
  {
   "cell_type": "markdown",
   "metadata": {},
   "source": [
    "### Split data into training and test sets\n",
    "\n",
    "So far, we have converted all _categorical_ features into numeric values. In this next step, we split the data (both features and corresponding labels) into training and test sets."
   ]
  },
  {
   "cell_type": "code",
   "execution_count": 8,
   "metadata": {
    "collapsed": false
   },
   "outputs": [],
   "source": [
    "# First, decide how many training vs test samples you want\n",
    "num_all = student_data.shape[0]  # same as len(student_data)\n",
    "num_train = 300  # about 75% of the data\n",
    "num_test = num_all - num_train"
   ]
  },
  {
   "cell_type": "code",
   "execution_count": 9,
   "metadata": {
    "collapsed": false
   },
   "outputs": [],
   "source": [
    "from sklearn import cross_validation\n",
    "\n",
    "\n",
    "\n",
    "def shuffle_split_data(X, y):\n",
    "    \"\"\" Shuffles and splits data into 75% training and 25% testing subsets,\n",
    "        then returns the training and testing subsets. \"\"\"\n",
    "\n",
    "    ### test_size is the percentage of events assigned to the test set\n",
    "    ### (remainder go into training)\n",
    "    \n",
    "    X_train, X_test, y_train, y_test = cross_validation.train_test_split(X, y, test_size=0.24)\n",
    "    \n",
    "\n",
    "\n",
    "    # Return the training and testing data subsets\n",
    "    return X_train, y_train, X_test, y_test\n",
    "\n",
    "\n"
   ]
  },
  {
   "cell_type": "code",
   "execution_count": 10,
   "metadata": {
    "collapsed": false
   },
   "outputs": [
    {
     "name": "stdout",
     "output_type": "stream",
     "text": [
      "Successfully shuffled and split the data!\n",
      "Training set: 300 samples\n",
      "Test set: 95 samples\n"
     ]
    }
   ],
   "source": [
    "# TODO: Then, select features (X) and corresponding labels (y) for the training and test sets\n",
    "# Note: Shuffle the data or randomly select samples to avoid any bias due to ordering in the dataset\n",
    "\n",
    "# Test shuffle_split_data\n",
    "try:\n",
    "    X_train, y_train, X_test, y_test = shuffle_split_data(X_all, y_all)\n",
    "    print \"Successfully shuffled and split the data!\"\n",
    "except:\n",
    "    print \"Something went wrong with shuffling and splitting the data.\"\n",
    "\n",
    "\n",
    "print \"Training set: {} samples\".format(X_train.shape[0])\n",
    "print \"Test set: {} samples\".format(X_test.shape[0])\n",
    "# Note: If you need a validation set, extract it from within training data"
   ]
  },
  {
   "cell_type": "markdown",
   "metadata": {},
   "source": [
    "## 4. Training and Evaluating Models\n",
    "Choose 3 supervised learning models that are available in scikit-learn, and appropriate for this problem. For each model:\n",
    "\n",
    "- What is the theoretical O(n) time & space complexity in terms of input size?\n",
    "- What are the general applications of this model? What are its strengths and weaknesses?\n",
    "- Given what you know about the data so far, why did you choose this model to apply?\n",
    "- Fit this model to the training data, try to predict labels (for both training and test sets), and measure the F<sub>1</sub> score. Repeat this process with different training set sizes (100, 200, 300), keeping test set constant.\n",
    "\n",
    "Produce a table showing training time, prediction time, F<sub>1</sub> score on training set and F<sub>1</sub> score on test set, for each training set size.\n",
    "\n",
    "Note: You need to produce 3 such tables - one for each model."
   ]
  },
  {
   "cell_type": "code",
   "execution_count": 11,
   "metadata": {
    "collapsed": false
   },
   "outputs": [],
   "source": [
    "# Train a model\n",
    "import time\n",
    "from sklearn.metrics import f1_score\n",
    "\n",
    "def train_classifier(clf, X_train, y_train):\n",
    "    start = time.time()\n",
    "    clf.fit(X_train, y_train)\n",
    "    end = time.time()\n",
    "    return end - start\n",
    "\n",
    "# Predict on training set and compute F1 score\n",
    "\n",
    "def predict_labels(clf, features, target):\n",
    "    start = time.time()\n",
    "    y_pred = clf.predict(features)\n",
    "    end = time.time()\n",
    "    return f1_score(target.values, y_pred, pos_label='yes'), end - start"
   ]
  },
  {
   "cell_type": "code",
   "execution_count": 12,
   "metadata": {
    "collapsed": false
   },
   "outputs": [],
   "source": [
    "# Train and predict using different training set sizes\n",
    "def train_predict(clf, X_train, y_train, X_test, y_test):\n",
    "    \n",
    "    train_time = train_classifier(clf, X_train, y_train)\n",
    "    \n",
    "    F1_score_train, prediction_time_train = predict_labels(clf, X_train, y_train)\n",
    "    F1_score_test, prediction_time_test = predict_labels(clf, X_test, y_test)\n",
    "    \n",
    "    return train_time, F1_score_train, F1_score_test, prediction_time_test\n",
    "\n"
   ]
  },
  {
   "cell_type": "code",
   "execution_count": 13,
   "metadata": {
    "collapsed": false
   },
   "outputs": [],
   "source": [
    "def print_Output_Table(clf, train_time, prediction_time, F1_score_train, F1_score_test):\n",
    "\n",
    "    print \"{:>53}\".format(clf.__class__.__name__)\n",
    "    print \"{:>53}\".format('Training set size')\n",
    "    print \"{:>30}{:>d}\\t{:>d}\\t{:>d}\".format('',100,200,300)\n",
    "    print \"-\"*55\n",
    "\n",
    "    for i in range(1):\n",
    "        print \"{:30}{:.3f}\\t{:.3f}\\t{:.3f}\".format('Training time (secs)',\n",
    "                                           train_time[i], train_time[i+1], train_time[i+2])\n",
    "        print \"{:30}{:.3f}\\t{:.3f}\\t{:.3f}\".format('Prediction time (secs)',\n",
    "                                           prediction_time[i], prediction_time[i+1], prediction_time[i+2])\n",
    "        print \"{:30}{:.3f}\\t{:.3f}\\t{:.3f}\".format('F1 score for training set',\n",
    "                                          F1_score_train[i], F1_score_train[i+1],F1_score_train[i+2])\n",
    "        print \"{:30}{:.3f}\\t{:.3f}\\t{:.3f}\".format('F1 score for test set',\n",
    "                                          F1_score_test[i],F1_score_test[i+1],F1_score_test[i+2])"
   ]
  },
  {
   "cell_type": "code",
   "execution_count": 14,
   "metadata": {
    "collapsed": false,
    "scrolled": false
   },
   "outputs": [],
   "source": [
    "\n",
    "# print output for training on the full training size\n",
    "def makeTableFullTrainingSize(train_time, F1_score_train, F1_score_test, prediction_time_test):\n",
    "    print \"{:>35}\".format(clf.__class__.__name__)\n",
    "    print \"-\"*35\n",
    "    print \"{:30}{:.3f}\".format('Training time (secs)', train_time)\n",
    "    print \"{:30}{:.3f}\".format('Prediction time (secs)', prediction_time_test)\n",
    "    print \"{:30}{:.3f}\".format('F1 score for training set', F1_score_train)\n",
    "    print \"{:30}{:.3f}\".format('F1 score for test set', F1_score_test)\n",
    "\n",
    "\n",
    "# Lets try incremements of 100, 200 and 300\n",
    "def makeTable(clf, X_test, y_test):\n",
    "\n",
    "    train_set_size = [0] * 3\n",
    "    train_time = [0] * 3\n",
    "    prediction_time = [0] * 3\n",
    "    F1_score_train = [0] * 3\n",
    "    F1_score_test = [0] * 3\n",
    "\n",
    "    for i in xrange(100, 400, 100):\n",
    "        (train_time[(i//100)-1], F1_score_train[(i//100)-1], \n",
    "         F1_score_test[(i//100)-1], prediction_time[(i//100)-1]) = train_predict(clf, \n",
    "                                                              X_train[:i], y_train[:i], X_test, y_test)\n",
    "        train_set_size[(i//100)-1] = i\n",
    "\n",
    "\n",
    "    print_Output_Table(clf, train_time, prediction_time, F1_score_train, F1_score_test)"
   ]
  },
  {
   "cell_type": "code",
   "execution_count": 78,
   "metadata": {
    "collapsed": false
   },
   "outputs": [],
   "source": [
    "## Confusion Matrix\n",
    "## Predicted Class by Actual Class\n",
    "from sklearn.metrics import confusion_matrix\n",
    "\n",
    "def makeConfusionMatrix(X_test, y_test):\n",
    "    y_true = y_test\n",
    "    y_pred = clf.predict(X_test)\n",
    "\n",
    "    cM = confusion_matrix(y_true, y_pred)\n",
    "\n",
    "    print \"{:^}\".format(clf.__class__.__name__)\n",
    "    print \"{:>40}\".format('Actual Class')\n",
    "    print \"{:15}{:10}{:10}{:10}\".format('Predicted', '', 'Passed', 'Failed')\n",
    "    print \"{:15}{:10}{:<10.3f}{:<10.3f}\".format('', 'Passed', cM[0][0], cM[0][1])\n",
    "    print \"{:15}{:10}{:<10.3f}{:<10.3f}\".format('', 'Failed', cM[1][0], cM[1][1])"
   ]
  },
  {
   "cell_type": "markdown",
   "metadata": {},
   "source": [
    "### Dictionary of models to run\n"
   ]
  },
  {
   "cell_type": "code",
   "execution_count": 83,
   "metadata": {
    "collapsed": false
   },
   "outputs": [],
   "source": [
    "from sklearn import tree\n",
    "from sklearn import svm\n",
    "from sklearn.ensemble import RandomForestClassifier\n",
    "\n",
    "\n",
    "\n",
    "\n",
    "models = {'RandomForest': RandomForestClassifier(n_estimators=200),\n",
    "          'SVC': svm.SVC(kernel=\"linear\"),\n",
    "          'DecisionTree': tree.DecisionTreeClassifier()\n",
    "         }"
   ]
  },
  {
   "cell_type": "code",
   "execution_count": 85,
   "metadata": {
    "collapsed": false
   },
   "outputs": [
    {
     "name": "stdout",
     "output_type": "stream",
     "text": [
      "             RandomForestClassifier\n",
      "-----------------------------------\n",
      "Training time (secs)          0.390\n",
      "Prediction time (secs)        0.012\n",
      "F1 score for training set     1.000\n",
      "F1 score for test set         0.769\n",
      "\n",
      "\n",
      "                               RandomForestClassifier\n",
      "                                    Training set size\n",
      "                              100\t200\t300\n",
      "-------------------------------------------------------\n",
      "Training time (secs)          0.406\t0.379\t0.386\n",
      "Prediction time (secs)        0.011\t0.012\t0.013\n",
      "F1 score for training set     1.000\t1.000\t1.000\n",
      "F1 score for test set         0.739\t0.763\t0.786\n",
      "\n",
      "\n",
      "                            Actual Class\n",
      "Predicted                Passed    Failed    \n",
      "               Passed    10.000    25.000    \n",
      "               Failed    5.000     55.000    \n",
      "                                SVC\n",
      "-----------------------------------\n",
      "Training time (secs)          0.018\n",
      "Prediction time (secs)        0.001\n",
      "F1 score for training set     0.852\n",
      "F1 score for test set         0.733\n",
      "\n",
      "\n",
      "                                                  SVC\n",
      "                                    Training set size\n",
      "                              100\t200\t300\n",
      "-------------------------------------------------------\n",
      "Training time (secs)          0.003\t0.018\t0.018\n",
      "Prediction time (secs)        0.000\t0.001\t0.001\n",
      "F1 score for training set     0.925\t0.863\t0.852\n",
      "F1 score for test set         0.702\t0.693\t0.733\n",
      "\n",
      "\n",
      "                            Actual Class\n",
      "Predicted                Passed    Failed    \n",
      "               Passed    12.000    23.000    \n",
      "               Failed    12.000    48.000    \n",
      "             DecisionTreeClassifier\n",
      "-----------------------------------\n",
      "Training time (secs)          0.002\n",
      "Prediction time (secs)        0.000\n",
      "F1 score for training set     1.000\n",
      "F1 score for test set         0.734\n",
      "\n",
      "\n",
      "                               DecisionTreeClassifier\n",
      "                                    Training set size\n",
      "                              100\t200\t300\n",
      "-------------------------------------------------------\n",
      "Training time (secs)          0.001\t0.001\t0.002\n",
      "Prediction time (secs)        0.000\t0.000\t0.000\n",
      "F1 score for training set     1.000\t1.000\t1.000\n",
      "F1 score for test set         0.694\t0.617\t0.730\n",
      "\n",
      "\n",
      "                            Actual Class\n",
      "Predicted                Passed    Failed    \n",
      "               Passed    15.000    20.000    \n",
      "               Failed    14.000    46.000    \n"
     ]
    }
   ],
   "source": [
    "\n",
    "\n",
    "for model_name, clf in models.iteritems():\n",
    "# Fit model to the training data, and predict labels (for both training and test sets), and measure the F1 score. \n",
    "    train_classifier(clf, X_train, y_train)\n",
    "    train_time, F1_score_train, F1_score_test, prediction_time_test = train_predict(clf, X_train, y_train, X_test, y_test)\n",
    "    makeTableFullTrainingSize(train_time, F1_score_train, F1_score_test, prediction_time_test)\n",
    "\n",
    "    print \"\\n\"\n",
    "\n",
    "    # Repeat this process with different training set sizes (100, 200, 300), keeping test set constant.\n",
    "    makeTable(clf, X_test, y_test)\n",
    "\n",
    "    print \"\\n\"\n",
    "    # Create confusion matrix\n",
    "    makeConfusionMatrix(X_test, y_test)\n",
    "    \n",
    "    print \"\\n\""
   ]
  },
  {
   "cell_type": "code",
   "execution_count": 34,
   "metadata": {
    "collapsed": false
   },
   "outputs": [],
   "source": [
    "from sklearn.metrics import f1_score\n",
    "from sklearn.cross_validation import cross_val_score\n",
    "from sklearn.learning_curve import learning_curve\n"
   ]
  },
  {
   "cell_type": "markdown",
   "metadata": {},
   "source": [
    "## What is the implication?\n",
    "\n",
    "Remember what we are trying to do here? We are trying to identifu students who need intervention, students who left to their own devices will **not** pass the class. Given our task, the cost of false alarms (12) aren't that high in comparison to **missing** students that need an intervention (23).\n",
    "\n"
   ]
  },
  {
   "cell_type": "markdown",
   "metadata": {},
   "source": [
    "## 5. Choosing the Best Model\n",
    "\n",
    "- Based on the experiments you performed earlier, in 1-2 paragraphs explain to the board of supervisors what single model you chose as the best model. Which model is generally the most appropriate based on the available data, limited resources, cost, and performance?\n",
    "- In 1-2 paragraphs explain to the board of supervisors in layman's terms how the final model chosen is supposed to work (for example if you chose a Decision Tree or Support Vector Machine, how does it make a prediction).\n",
    "- Fine-tune the model. Use Gridsearch with at least one important parameter tuned and with at least 3 settings. Use the entire training set for this.\n",
    "- What is the model's final F<sub>1</sub> score?"
   ]
  },
  {
   "cell_type": "code",
   "execution_count": 36,
   "metadata": {
    "collapsed": false
   },
   "outputs": [],
   "source": [
    "# TODO: Fine-tune your model and report the best F1 score\n"
   ]
  },
  {
   "cell_type": "markdown",
   "metadata": {},
   "source": [
    "Best estimator found through GridSearch SVC(C=10, cache_size=200, class_weight=None, coef0=0.0,\n",
    "  decision_function_shape=None, degree=3, gamma='auto', kernel='linear',\n",
    "  max_iter=-1, probability=False, random_state=None, shrinking=True,\n",
    "  tol=0.001, verbose=False)\n",
    "  \n",
    "F1 score for training set: 0.855835240275\n",
    "\n",
    "F1 score for test set: 0.75\n",
    "\n",
    "## Validating the Model"
   ]
  },
  {
   "cell_type": "code",
   "execution_count": 39,
   "metadata": {
    "collapsed": true
   },
   "outputs": [],
   "source": [
    "clf = svm.SVC(C=10, cache_size=200, class_weight=None, coef0=0.0,\n",
    "  decision_function_shape=None, degree=3, gamma='auto', kernel='linear',\n",
    "  max_iter=-1, probability=False, random_state=None, shrinking=True,\n",
    "  tol=0.001, verbose=False)\n",
    "\n"
   ]
  },
  {
   "cell_type": "code",
   "execution_count": 40,
   "metadata": {
    "collapsed": false
   },
   "outputs": [
    {
     "name": "stdout",
     "output_type": "stream",
     "text": [
      "                                                  SVC\n",
      "                                    Training set size\n",
      "                              100\t200\t300\n",
      "-------------------------------------------------------\n",
      "Training time (secs)          0.056\t0.269\t0.350\n",
      "Prediction time (secs)        0.001\t0.001\t0.001\n",
      "F1 score for training set     0.958\t0.858\t0.853\n",
      "F1 score for test set         0.581\t0.656\t0.733\n"
     ]
    }
   ],
   "source": [
    "makeTable(clf, X_test, y_test)"
   ]
  },
  {
   "cell_type": "code",
   "execution_count": null,
   "metadata": {
    "collapsed": false
   },
   "outputs": [],
   "source": [
    "from sklearn.grid_search import GridSearchCV\n",
    "from sklearn import svm\n",
    "\n",
    "\n",
    "print(\"Fitting the classifier to the training set\")\n",
    "t0 = time()\n",
    "parameters = {'kernel':('linear', 'rbf'), \n",
    "              'C':[1e1, 5e1, 1e2, 5e2, 1e3, 5e3, 1e4, 5e4],\n",
    "             'gamma': [0.0001, 0.0005, 0.001, 0.005, 0.01, 0.1]}\n",
    "svr = svm.SVC()\n",
    "clf = GridSearchCV(svr, parameters)\n",
    "\n",
    "# Fit model to training data\n",
    "\n",
    "train_classifier(clf, X_train, y_train) \n",
    "print(\"done in %0.3fs\" % (time() - t0))\n",
    "\n",
    "print\"Best estimator found by grid search: {}\".format((clf.best_estimator_))\n",
    "    \n",
    "train_f1_score = predict_labels(clf, X_train, y_train)\n",
    "print \"F1 score for training set: {}\".format(train_f1_score)\n",
    "\n",
    "# Predict on test data\n",
    "print \"F1 score for test set: {}\".format(predict_labels(clf, X_test, y_test))"
   ]
  },
  {
   "cell_type": "code",
   "execution_count": null,
   "metadata": {
    "collapsed": true
   },
   "outputs": [],
   "source": []
  }
 ],
 "metadata": {
  "kernelspec": {
   "display_name": "Python 2",
   "language": "python",
   "name": "python2"
  },
  "language_info": {
   "codemirror_mode": {
    "name": "ipython",
    "version": 2
   },
   "file_extension": ".py",
   "mimetype": "text/x-python",
   "name": "python",
   "nbconvert_exporter": "python",
   "pygments_lexer": "ipython2",
   "version": "2.7.11"
  }
 },
 "nbformat": 4,
 "nbformat_minor": 0
}
